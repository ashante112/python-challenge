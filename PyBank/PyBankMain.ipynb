{
 "cells": [
  {
   "cell_type": "code",
   "execution_count": 1,
   "metadata": {},
   "outputs": [],
   "source": [
    "# Import modules\n",
    "import os\n",
    "import csv"
   ]
  },
  {
   "cell_type": "code",
   "execution_count": 7,
   "metadata": {},
   "outputs": [
    {
     "data": {
      "text/plain": [
       "'Resources/budget_data.csv'"
      ]
     },
     "execution_count": 7,
     "metadata": {},
     "output_type": "execute_result"
    }
   ],
   "source": [
    "# Set path for file in variable csvpath\n",
    "csvpath = os.path.join(\"Resources\",\"budget_data.csv\")\n",
    "csvpath"
   ]
  },
  {
   "cell_type": "code",
   "execution_count": 14,
   "metadata": {},
   "outputs": [],
   "source": [
    "# Set lists for retrieval\n",
    "months = []\n",
    "profit_loss = []"
   ]
  },
  {
   "cell_type": "code",
   "execution_count": 15,
   "metadata": {},
   "outputs": [],
   "source": [
    "# Initializing the variables\n",
    "month_count = 0\n",
    "profit = 0\n",
    "profit_total = 0\n",
    "profit_change_total = 0"
   ]
  },
  {
   "cell_type": "code",
   "execution_count": 16,
   "metadata": {},
   "outputs": [],
   "source": [
    "# Open file to read (in read mode)\n",
    "with open(csvpath, 'r', newline='') as csvfile:\n",
    "    csvreader=csv.reader(csvfile, delimiter=',')\n",
    "\n",
    "    # Read header in first row\n",
    "    csv_header = next (csvreader)\n",
    "        \n",
    "    #Starts reading at 2nd line, each row is now a list\n",
    "    for row in csvreader:\n",
    "        count + count +1"
   ]
  },
  {
   "cell_type": "code",
   "execution_count": 18,
   "metadata": {},
   "outputs": [
    {
     "data": {
      "text/plain": [
       "0"
      ]
     },
     "execution_count": 18,
     "metadata": {},
     "output_type": "execute_result"
    }
   ],
   "source": [
    "month_count"
   ]
  },
  {
   "cell_type": "code",
   "execution_count": 4,
   "metadata": {},
   "outputs": [],
   "source": [
    "\n"
   ]
  },
  {
   "cell_type": "code",
   "execution_count": null,
   "metadata": {},
   "outputs": [],
   "source": [
    "    \n",
    "    \n",
    "    \n",
    "    months_total.append(row[0])\n",
    "    profit_loss.append(row[1])\n",
    "    \n",
    "    profit_total = profit_total + int(row[1])\n",
    "    \n",
    "    \n",
    "    \n",
    "    for value in months_total:\n",
    "        print(months_total)\n",
    "    print(\"Total Months: \" + str(len(months_total)))\n"
   ]
  }
 ],
 "metadata": {
  "kernelspec": {
   "display_name": "Python 3",
   "language": "python",
   "name": "python3"
  },
  "language_info": {
   "codemirror_mode": {
    "name": "ipython",
    "version": 3
   },
   "file_extension": ".py",
   "mimetype": "text/x-python",
   "name": "python",
   "nbconvert_exporter": "python",
   "pygments_lexer": "ipython3",
   "version": "3.9.1"
  }
 },
 "nbformat": 4,
 "nbformat_minor": 4
}
